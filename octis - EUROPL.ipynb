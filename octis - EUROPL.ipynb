{
 "cells": [
  {
   "cell_type": "code",
   "execution_count": 1,
   "metadata": {},
   "outputs": [],
   "source": [
    "import sys\n",
    "import pandas as pd\n",
    "if '/home/sagemaker-user/octis/OCTIS' not in sys.path: sys.path.append('/home/sagemaker-user/octis/OCTIS') \n",
    "\n",
    "from octis.models.LDA import LDA\n",
    "from octis.models.LDA_gibbs import LDA_gibbs\n",
    "from octis.models.LDA_tomopy import LDA_tomopy\n",
    "from octis.models.NMF_scikit import NMF_scikit\n",
    "from octis.dataset.dataset import Dataset\n",
    "from octis.evaluation_metrics.diversity_metrics import TopicDiversity\n",
    "from octis.evaluation_metrics.coherence_metrics import Coherence\n",
    "\n",
    "from octis.optimization.optimizer import Optimizer\n",
    "from skopt.space.space import Real, Integer, Categorical\n",
    "\n",
    "from warnings import filterwarnings\n",
    "filterwarnings('ignore')"
   ]
  },
  {
   "cell_type": "code",
   "execution_count": 2,
   "metadata": {},
   "outputs": [],
   "source": [
    "#loadData\n",
    "europarl_dataset = Dataset()\n",
    "europarl_dataset.fetch_dataset('Europarl_IT')\n",
    "\n",
    "coherence = Coherence(texts=europarl_dataset.get_corpus(), topk=10, measure='c_v')"
   ]
  },
  {
   "cell_type": "code",
   "execution_count": null,
   "metadata": {},
   "outputs": [],
   "source": [
    "NMF_scikit"
   ]
  },
  {
   "cell_type": "code",
   "execution_count": 3,
   "metadata": {},
   "outputs": [
    {
     "name": "stdout",
     "output_type": "stream",
     "text": [
      "Topics:\n",
      "commissione emendamento bilancio presentare chiedere dare nome iniziativa parere agricoltura\n",
      "presidente signore commissario signora carica en parlare dibattito discussione fr\n",
      "europeo unione cittadino adesione integrazione istituzione democratico necessità livello costituzione\n",
      "economico sociale politico crisi finanziario livello necessario sviluppo sistema regione\n",
      "diritto umano fondamentale rispetto democrazia materia libertà rispettare violazione donna\n",
      "onorevole collega desiderare relatore ringraziare deputato nome innanzi signora esprimere\n",
      "parlamento europeo ruolo deputato posizione adottare esprimere svolgere voto risoluzione\n",
      "politica comune agricolo estero regionale bisogno riforma comunitario sicurezza pesca\n",
      "volere ciò sottolineare possibile ricordare chiedere presente azione commissario aula\n",
      "relazione votare presentare linea aspetto tema discussione eccellente ringraziare svoltare\n",
      "membro euro adottare direttiva fornire chiedere sapere fiscale singolo venire\n",
      "problema affrontare risolvere grave trattare soluzione situazione né tenere comune\n",
      "europa cittadino sicurezza bisogno confronto motivo centrale popolo creare occidentale\n",
      "punto importante vista ritenere passo attenzione soprattutto valutazione rappresentare rispettare\n",
      "accordo cooperazione negoziato concludere raggiungere ciò materia partenariato internazionale ue\n",
      "mercato interno servizio concorrenza consumatore pubblico impresa unico prodotto finanziario\n",
      "programma settore sviluppo quadro ricerca fondo progetto aiuto investimento particolare\n",
      "obiettivo raggiungere direttiva ciò garantire misura strategia necessario piano comunitario\n",
      "questione trattare sollevare discutere riguardare occasione trattato risolvere credere affrontare\n",
      "proposta regolamento venire articolo presentare paragrafo risoluzione senso direttiva ricevere\n",
      "\n",
      "Overall Coherence Score: 0.4534996657587659\n"
     ]
    }
   ],
   "source": [
    "nmf_model_20 = NMF_scikit(num_topics=20, init='nndsvdar')\n",
    "nmf_output_20 = nmf_model_20.train_model(europarl_dataset)\n",
    "print('Topics:',*[' '.join(x) for x in nmf_output_20['topics']],sep='\\n')\n",
    "print(f'\\nOverall Coherence Score: {coherence.score(nmf_output_20)}')"
   ]
  },
  {
   "cell_type": "code",
   "execution_count": 4,
   "metadata": {},
   "outputs": [
    {
     "name": "stdout",
     "output_type": "stream",
     "text": [
      "Topics:\n",
      "commissione nome parere iniziativa comunicazione intendere agricoltura riguardo affare proporre\n",
      "signore presidente carica en fr osservazione de domanda barroso relatrice\n",
      "europeo unione integrazione adesione necessità espressione russia economia comunità istituzione\n",
      "economico crescita stabilità commerciale conseguenza governance monetario comitato approccio finanza\n",
      "diritto umano rispetto democrazia violazione difendere godere essenziale particolarmente libertà\n",
      "onorevole collega nome innanzi parlamentare de autonomo presentare van schulz\n",
      "parlamento europeo risoluzione sostegno favorevole approvare codecisione compito documento concedere\n",
      "politica estero regionale agricolo bisogno riforma pesca coesione comunitario campo\n",
      "volere sottolineare ricordare presente aula porgere particolarmente ringraziare breve osservazione\n",
      "relazione linea presentare eccellente aspetto discusso russia congratularsi parere metà\n",
      "direttiva applicazione vigore comunitario disporre riferimento ce elenco adozione attuazione\n",
      "proposta legislativo risoluzione riforma esaminare intendere giugno modifica avanzare contenere\n",
      "membro fornire vecchio fiscale singolo impostare iniziativa competenza comprendere miglioramento\n",
      "europa bisogno centrale orientale occidentale popolo parlamentare motivo crescita confronto\n",
      "accordo raggiungere negoziato concludere interistituzionale partenariato associazione pesca aiuto uniti\n",
      "problema risolvere grave soluzione connesso contribuire turchia bisognare emergere corruzione\n",
      "mercato interno concorrenza unico consumatore ostacolo regionale funzionamento permettere incertezza\n",
      "punto vista migliore valutazione essenziale significato sottolineare legislativo terzo diversi\n",
      "programma quadro ricerca settimo specifico stabilire finanziamento giovane aiuto destinare\n",
      "obiettivo raggiungere strategia ambizioso principale fissare piano sostenibile unico semplificare\n",
      "venire popolazione civile intervento presentare preoccupare emissione poiché assicurare mettere\n",
      "questione sollevare discutere risolvere competenza occasione rientrare porre esaminare occupare\n",
      "importante passo aspetto costituire lotta compiere ottenere estremamente argomento direzione\n",
      "conto tenere rendere equilibrato rispondere riuscire opportunità possibilità compromesso pensare\n",
      "particolare finanziamento pensare assumere poiché ricevere importanza prestare concentrare mettere\n",
      "possibile soluzione presente consenso indicare affinché costo sperare vertice riconoscere\n",
      "pubblico opinione privato finanza appalto autorità prestito accesso sanità cambiare\n",
      "cittadino confronto messaggio intendere rafforzare obbligo maggioranza occupare civile libertà\n",
      "regolamento articolo paragrafo senso risoluzione ricevere conformemente presentare ce norma\n",
      "settore privato investimento ricerca pesca formazione automobilistico comunicazione competente aereo\n",
      "democratico partito popolare istituzione cristiano europeo libero liberale trasparente assemblea\n",
      "sviluppo sostenibile aiuto rurale agricoltura contribuire parere considerare ricerca fiducia\n",
      "commissario signore importanza collega alto carica sostegno benvenuto promettere domanda\n",
      "ciò significare avvenire reale agire impedire origine richiedere informare rispecchiare\n",
      "trattare causa capire isola grave minoranza atto decidere intervento porre\n",
      "ambiente salute attività effetto tutela umano produzione ambientale rischio economia\n",
      "materia norma legislazione dato informazione codice competenza comunicazione soprattutto ambientale\n",
      "dare grado risposta priorità domanda informazione possibilità contributo impegnare riuscire\n",
      "attenzione prestare richiamare tema esaminare campo affinché nuovamente necessità esistere\n",
      "emendamento presentare approvare nn accogliere compromesso orale lettura maggioranza ragione\n",
      "trattato lisbona vigore articolo entrata costituzionale amsterdam maastricht strategia responsabilità\n",
      "base giuridico esperienza giustizia costituire simile giudicare legale successo naturalmente\n",
      "politico forte segnale volontà diversi adeguato assumere singolo partito affermare\n",
      "livello comunitario termine elevato alto armonizzazione motivo istruzione impegno richiedere\n",
      "signora presidente carica de parola orientamento riferire breve ppe nome\n",
      "misura contribuire prevedere risparmiare entro ridurre significativo animale tendere pratica\n",
      "adottare mettere posizione sperare studio maggioranza risoluzione lettura voltare risultato\n",
      "bilancio procedura spesa risorsa agricoltura aumento de agricolo considerazione comprendere\n",
      "sicurezza libertà vero aereo compiere spazio nucleare essa giustizia lavoratore\n",
      "situazione attuale fronte difficile migliorare interno presentare pensare termine tipo\n",
      "parlare nome voce chiaro cifra sperare ricordare ppe davvero difesa\n",
      "finanziario prospettiva sostegno debito attuale contributo contenere bruxelles citare quadro\n",
      "votare risoluzione motivo poiché votazione iscritto testo pacchetto maggioranza paragrafo\n",
      "cooperazione stretto russia lotta assistenza transfrontaliera terzo rafforzato buon coordinamento\n",
      "discussione mettere tema odierno elemento merito esito coinvolgere sostanzialmente arrivare\n",
      "internazionale organizzazione commercio crimine penale terrorismo tribunale continuare mondiale assumere\n",
      "comune posizione definire responsabilità agricolo confronto raggiungere valutare moneta rappresentante\n",
      "garantire protezione dato consumatore migliore civile lavorare adeguato contempo lavoratore\n",
      "sostenere pensare continuare divieto costituzione intero avanzare spesa possibilità rete\n",
      "donna violenza femminile bambino parità lotta giovane progresso costituire confronto\n",
      "impresa piccolo medio creare consentire aiutare considerare enorme occupazione informazione\n",
      "prodotto agricolo alimentare prezzo produzione costo origine offrire basso sostanza\n",
      "né parto confermare mantenere fallimento realizzare riguardo società palestina elezione\n",
      "processo verbale vedasi voto intenzione correzione dichiarazione seduta scrivere registro\n",
      "pertanto sentire divieto sviluppare fase corso relatore lieto invitare proporre\n",
      "servizio qualità applicazione campo offrire postale escludere liberalizzazione assistenza periodo\n",
      "trasporto condizione strada passeggero merce aereo ferroviario migliorare turismo treno\n",
      "necessario creare affinché seno difficoltà raggiungere consenso finanziamento adesione effettuare\n",
      "fondo strutturale regionale attuazione ricerca destinare adeguamento occorrere finanziare globalizzazione\n",
      "sociale povertà occupazione esclusione lotta crescita coesione grave stabilità pt\n",
      "progetto unico iniziativa sostegno energetico riconoscere richiedere concreto sottolineare rete\n",
      "chiedere ragione motivo immediato intervenire respingere avvenire stabilità sanzione applicare\n",
      "ritenere responsabile indurre soddisfare chiaro colpire particolarmente motivo estremamente de\n",
      "energia nucleare rinnovabile sostenibile fonte emissione sviluppare investimento carbone energetico\n",
      "numero causa crescente forma violenza bambino comunità regolamento ce limitare\n",
      "decisione chiaro procedura principio maggioranza autorità attuazione emissione trasparenza capo\n",
      "ruolo svolgere svoltare apprezzare chiarire assumere eccellente guida finale pace\n",
      "riguardare aspetto visita domanda avvenire osservazione infine pacchetto energetico negoziato\n",
      "deputato ricordare assemblea parlamentare vicepresidente vittima maggio rifiutare onorevole provenire\n",
      "interesse conflitto comunità russia difendere gioco proseguire maniera turchia informazione\n",
      "sapere davvero forte francese esperienza destinare responsabilità conoscere attualmente perfettamente\n",
      "ambito procedura significare cultura iniziativa ricerca ovviamente istruzione partecipazione associazione\n",
      "euro zona moneta valuta terzo vertice partecipare aspetto pario appena\n",
      "controllo assicurare effettuare responsabilità adeguato autorità efficace frontiera organo sottoporre\n",
      "ue riunione ucraina personale vertice esportazione de russia rafforzare necessità\n",
      "presidenza francese lavorare tedesco carta olandese conferenza ungherese seno assumere\n",
      "esprimere preoccupazione merito voto occasione dichiarazione profondo parto riunione critica\n",
      "crisi gestione colpire strumento mondiale economia periodo grave gestire superare\n",
      "rappresentare economia attuale sentire significativo ong minaccia ormai rapido risparmio\n",
      "dibattito corso intervenire buon senso odierno argomento collega tema messaggio\n",
      "desiderare ringraziare relatore svoltare innanzi congratularsi ottimo impegno relatrice on\n",
      "azione piano strumento risultato sostegno esterno intraprendere campo definire migliore\n",
      "affrontare sfida terzo giustizia comunità causa cambiamento tal maniera affare\n",
      "prossimo settimana sperare visita attendere vertice finale parlamentare cinque introdurre\n",
      "sistema giudiziario esistere regime sanitario attuale impedire funzionare creare scambio\n",
      "credere continuare opportuno intendere sentire dichiarare massimo anziché tardi provvedimento\n",
      "dimostrare popolazione esperienza cambiare opposizione difficoltà visita adesione libertà conseguire\n",
      "regione positivo provenire attualmente area colpire alto artico popolazione stabilità\n",
      "fondamentale valore importanza carta libertà consentire cultura espressione davvero uguaglianza\n",
      "rispettare riconoscere obbligo mettere consapevole regola esistere parola impostare accettare\n",
      "\n",
      "Overall Coherence Score: 0.37257303038359313\n"
     ]
    }
   ],
   "source": [
    "nmf_model_100 = NMF_scikit(num_topics=100, init='nndsvdar')\n",
    "nmf_output_100 = nmf_model_100.train_model(europarl_dataset)\n",
    "print('Topics:',*[' '.join(x) for x in nmf_output_100['topics']],sep='\\n')\n",
    "print(f'\\nOverall Coherence Score: {coherence.score(nmf_output_100)}')"
   ]
  },
  {
   "cell_type": "code",
   "execution_count": null,
   "metadata": {},
   "outputs": [],
   "source": [
    "LDA_gibbs"
   ]
  },
  {
   "cell_type": "code",
   "execution_count": 5,
   "metadata": {},
   "outputs": [
    {
     "name": "stdout",
     "output_type": "stream",
     "text": [
      "Topics:\n",
      "programma ricerca sviluppo relazione economico fondo stabilire campo politica quadro\n",
      "volere problema cambiamento sottolineare numero ciò regione causa massimo popolazione\n",
      "diritto punto rispettare politico donna rispetto materia considerare criterio ambito\n",
      "venire grado riconoscere necessario ue motivo usare vedere turchia soluzione\n",
      "politica importante sicurezza passo rappresentare comune pertanto interno trattare europa\n",
      "problema questione politico volere organizzazione trattare affrontare importanza occasione datare\n",
      "europeo obiettivo controllo garantire comunitario livello unione misura membro piano\n",
      "settore servizio trasporto energia pubblico mercato impresa sicurezza piccolo investimento\n",
      "europeo diritto ruolo lotta internazionale europa donna democratico parlamento importante\n",
      "politica prodotto bilancio finanziario comune obiettivo aiuto produzione agricolo aumento\n",
      "presidente signore onorevole collega commissario relazione volere signora desiderare ringraziare\n",
      "direttiva regolamento membro proposta tenere trattato articolo base procedura conto\n",
      "sociale economico sviluppo politica mercato economia occupazione europa pubblico garantire\n",
      "commissione punto volere chiedere attenzione particolare questione onorevole rispondere emendamento\n",
      "europeo unione diritto accordo cooperazione umano questione democrazia materia attualmente\n",
      "commissione parlamento proposta europeo onorevole questione votare membro poiché sapere\n",
      "commissione relazione parlamento membro parere accordo né lavorare pensare prossimo\n",
      "europeo unione europa politico finanziario cittadino rendere azione sostegno economico\n",
      "europeo unione cittadino processo possibile dimostrare risultato continuare ritenere sentire\n",
      "commissione presentare relazione parlamento emendamento adottare decisione approvare programma progetto\n",
      "\n",
      "Overall Coherence Score: 0.43154525140191097\n"
     ]
    }
   ],
   "source": [
    "lda_model_20 = LDA_gibbs(num_topics=20, n_iter=1000)\n",
    "lda_output_20 = lda_model_20.train_model(europarl_dataset)\n",
    "print('Topics:',*[' '.join(x) for x in lda_output_20['topics']],sep='\\n')\n",
    "print(f'\\nOverall Coherence Score: {coherence.score(lda_output_20)}')"
   ]
  },
  {
   "cell_type": "code",
   "execution_count": 6,
   "metadata": {},
   "outputs": [
    {
     "name": "stdout",
     "output_type": "stream",
     "text": [
      "Topics:\n",
      "europeo democratico partito idea struttura fondamentale trasparente associare popolare elettorale\n",
      "livello rispettare ritenere criterio società definire importante significare considerare realizzazione\n",
      "trattare punto passare discussione datare avviso tema disposizione ordine capo\n",
      "europa incoraggiare bisogno gran conoscenza regime dipendere distribuzione speranza importanza\n",
      "misura adottare direttiva necessario azione specifico prevedere metodo volgere comunitario\n",
      "questione importante discutere sollevare argomento procedura estremamente direttamente presente tornare\n",
      "cooperazione interno importante esterno sicurezza frontiera affare criminalità sufficiente giustizia\n",
      "unione europeo materia ambientale iniziativa legislazione immigrazione ambito asilo intraprendere\n",
      "pertanto ciò realtà portare divieto limite determinare impedire indispensabile risultare\n",
      "ue settimana vertice particolare partecipare riunione parola finale russia riferire\n",
      "onorevole desiderare relatore relazione ringraziare collega volere relatrice esprimere svoltare\n",
      "risultato commissione ottenere stretto lavorare buon conseguire dare dicembre collaborazione\n",
      "relazione discussione tema dibattito aspetto coordinamento desiderare linea odierno consapevole\n",
      "europeo parlamento ruolo svolgere importante rete svoltare sostegno agenzia funzione\n",
      "diritto umano fondamentale democrazia rispettare rispetto violazione libertà carta sancire\n",
      "proposta articolo regolamento paragrafo senso direttiva previsto risoluzione contenuto base\n",
      "mettere rappresentare agire necessario britannico aiuto senso consenso credere pericolo\n",
      "proposta commissione merito parlamento intendere appoggiare domani esaminare avanzare legislativo\n",
      "donna numero azione nonché utilizzare violenza poiché promozione forma concreto\n",
      "dato personale convenzione sede ritenere soprattutto agenzia discusso auspicare preparare\n",
      "ricordare parlare volere parola regola attuare vero vivere denaro riferimento\n",
      "europa porre iniziativa pace nord conflitto mediterraneo gente confine centrale\n",
      "situazione occorrere difficile intendere soprattutto riflettere termine grado maggiormente meritare\n",
      "lotta comunitario contributo povertà fiscale campo altresì partecipazione sociale attivo\n",
      "regione provenire germania kosovo unito divenire regno francia numeroso rientrare\n",
      "maggioranza assemblea parlamento parlamentare procedura approvare rapporto rimanere codecisione inizio\n",
      "commissione sostegno agricoltura elaborare pario opportunità sviluppo specifico attuazione rurale\n",
      "posizione comune responsabilità assumere chiaro ritenere azione definire trasparenza confronto\n",
      "informazione mantenere istituzione chiedere naturalmente evitare proporre disponibile base stanziamento\n",
      "presidenza permettere introdurre francese atto principale tedesco lingua valutare sapere\n",
      "energia nucleare energetico industria condurre trasporto sfida centrale progetto ambientale\n",
      "esprimere occasione possibilità presidenza preoccupazione affrontare ufficio bruxelles congiunto escludere\n",
      "volere dichiarazione presente aula dichiarare citare concedere commissario voto anzi\n",
      "situazione animale misura ragione grave attuale migliorare fronte preoccupazione medicinale\n",
      "sistema controllo riconoscere pienamente giungere chiedere affinché responsabilità efficace ritardo\n",
      "economico sociale crisi occupazione crescita stabilità europa finanziario migliore promuovere\n",
      "valore commerciale uniti interesse mondiale continuare cina pratica tentativo rispetto\n",
      "tenere conto rendere uso sostanza usare scientifico complesso impiegare finire\n",
      "fondo sviluppo economico sociale regione area strumento regionale equilibrio strutturale\n",
      "euro membro introduzione unico registrare zona moneta debito veramente mano\n",
      "base condizione istituire norma simile tipo serie applicare assolutamente qualsiasi\n",
      "ambito investimento riguardare istruzione servizio formazione revisione cultura culturale rendere\n",
      "possibile riuscire realizzare tal elezione permettere termine portare riforma considerazione\n",
      "libero consentire successo superare apprezzare causare circolazione verde eliminare ostacolo\n",
      "internazionale organizzazione commercio umanitario comprendere comunità impegnare continuare guerra crimine\n",
      "considerare proporre periodo soluzione miglioramento principio assistere strategia attendere affatto\n",
      "mercato interno finanziario concorrenza banca normativa funzionamento povero aprire credito\n",
      "punto vista diversi sottolineare credere affermare chiaramente politico valutazione migliore\n",
      "sapere piano obiettivo decidere processo parto attuazione strumento entro fase\n",
      "venire verificare colpire soprattutto valido processo risoluzione regione emergere indicare\n",
      "compiere progresso passo sforzo importante costituire forte rifiuto politico positivo\n",
      "questione attenzione particolare assistenza popolazione prestare trattamento servire semplice urgente\n",
      "programma ricerca quadro sviluppo obiettivo ambito destinare materia tecnologia voltare\n",
      "problema affrontare livello risolvere alto rappresentante questione approccio armonizzazione sé\n",
      "dimostrare problema corso riguardare chiave responsabile cosiddetto visita individuare votazione\n",
      "protezione cittadino rafforzare livello civile impegno entro disposizione definizione capitolo\n",
      "riguardare volere intervento comitato sottolineare politica pur almeno bc aggiungere\n",
      "qualità costo termine necessario aumento produzione rendere ridurre basso percento\n",
      "europeo unione membro integrazione necessità comunità fiducia affrontare resto carattere\n",
      "europeo unione cittadino dimensione essa vincolante benché popolo interessare espressione\n",
      "dare risposta intervenire consentire domanda internet centro informazione postare eventuale\n",
      "politico compromesso dare datare gestione capire raggiungere aiutare volontà passato\n",
      "commissione testo decisione parere legge giustizia pensare corte condividere procedere\n",
      "volere commissione particolare osservazione davvero infine breve particolarmente proposito parlare\n",
      "membro venire obbligo singolo competenza rispettare vecchio commissione spettare norma\n",
      "opinione politico rispondere confronto chiaro principio rivolgere domanda pubblico aperto\n",
      "relazione commissione onorevole presentare nome seno parere occupare conferenza recare\n",
      "prossimo libertà impegno entrare vigore affinché riguardo sperare spazio scelta\n",
      "economia contribuire cambiamento politica climatico reale ambiente finanziario sviluppo vantaggio\n",
      "motivo dubbio ripetere capacità beneficio necessario legare sostenibile rimare preoccupare\n",
      "emendamento commissione presentare votare relazione proposta chiedere accogliere approvare motivo\n",
      "lavoratore esistere aspetto sicurezza poiché attuale forma terzo meccanismo basare\n",
      "direttiva conseguenza disporre salute effetto ambiente grave bambino sanitario rischio\n",
      "sistema produrre riduzione emissione venire effetto ridurre limitare quota azienda\n",
      "politica rappresentare sostenere documento comportare ragione numerosi ovvero coordinare efficacia\n",
      "europeo parlamento trattare deputato solidarietà vittima istituzione invitare spirito giusto\n",
      "venire programma bilancio vedere spesa comprendere membro popolazione campo chiarezza\n",
      "prodotto alimentare sostenere offrire intero origine produzione prezzo diversità balcani\n",
      "sicurezza trasporto aumentare garantire settore aereo passeggero esigenza linea incidente\n",
      "commissione parlamento bilancio risoluzione contenere lettura controllo raccomandazione chiedere assicurare\n",
      "quadro giuridico decisione consumatore regolamento applicazione tutela numero adozione modificare\n",
      "accordo cooperazione materia relazione negoziato concludere associazione partenariato tecnico bilaterale\n",
      "garantire adeguato adesione turchia controllo utile organismo apertura dieci politico\n",
      "obiettivo aiuto accordo raggiungere necessario sebbene attuale priorità dare anziché\n",
      "attualmente processo elemento corso essenziale acqua terrorismo intenzione zona militare\n",
      "attività finanziario prospettiva stabilire concentrare imporre comportamento sanzione prevedere ampio\n",
      "politica pesca comunitario comune agricolo estero riforma risorsa gestione difesa\n",
      "ciò né avvenire contempo riguardo significare altrettanto rifiutare rapido certamente\n",
      "garantire fornire membro contrario pacchetto garanzia aspettare esperto trasferimento sviluppo\n",
      "impresa piccolo medio massimo mercato ovviamente enorme sfida facile onere\n",
      "presidente signore onorevole collega commissario de signora nome deputato commento\n",
      "creare settore terzo favorevole scambio condizione compito creazione studio buono\n",
      "richiesta autorità formulare sostenere locale regionale aiuto provvedimento russo valutare\n",
      "presidente signore commissario signora en carica discussione barroso influenza pt\n",
      "causa dialogo interesse vero grado pressione possibile particolare soluzione territorio\n",
      "importanza cittadino impostare concordo attribuire arma cruciale minaccia circostanza seduta\n",
      "trattato lisbona strategia costituzione ue ormai includere rapidamente aiutare occorrere\n",
      "pubblico servizio settore accesso norma interesse privato valutazione concorrenza liberalizzazione\n",
      "richiedere progetto maniera efficace riconoscere trattare sicuro unico fissare condizione\n",
      "pertanto adottare credere sentire fronte diverso conferenza analisi sviluppare voce\n",
      "\n",
      "Overall Coherence Score: 0.35863893917028605\n"
     ]
    }
   ],
   "source": [
    "lda_model_100 = LDA_gibbs(num_topics=100, n_iter=1000)\n",
    "lda_output_100 = lda_model_100.train_model(europarl_dataset)\n",
    "print('Topics:',*[' '.join(x) for x in lda_output_100['topics']],sep='\\n')\n",
    "print(f'\\nOverall Coherence Score: {coherence.score(lda_output_100)}')"
   ]
  },
  {
   "cell_type": "code",
   "execution_count": null,
   "metadata": {},
   "outputs": [],
   "source": [
    "LDA_tomotopy"
   ]
  },
  {
   "cell_type": "code",
   "execution_count": 7,
   "metadata": {},
   "outputs": [
    {
     "name": "stdout",
     "output_type": "stream",
     "text": [
      "Topics:\n",
      "cooperazione accordo riguardare norma organizzazione domanda pensare possibile sistema dialogo\n",
      "membro rispettare accordo continuare negoziato ambito possibile trattato intervento autorità\n",
      "trasporto pertanto energia impresa ridurre regionale proporre particolare affrontare nucleare\n",
      "volere membro sapere compiere interno sistema entro chiedere questione disporre\n",
      "necessario bilancio finanziario settore termine ue prossimo attività politico specifico\n",
      "presidente signore onorevole collega volere commissario relazione signora desiderare dibattito\n",
      "europa situazione donna relazione ciò costituire parola affermare senso altresì\n",
      "pubblico mercato sicurezza questione servizio trattare tema né attenzione accesso\n",
      "tenere esistere conto possibilità riuscire ricordare paragrafo strategia sostegno lisbona\n",
      "dare venire controllo fornire mercato ciò consentire informazione valore interesse\n",
      "politica sociale comune sviluppo economico settore pesca riforma regione rendere\n",
      "commissione presentare emendamento parlamento proposta posizione chiedere merito relazione parere\n",
      "commissione proposta direttiva regolamento relazione discussione procedura riguardare articolo numero\n",
      "parlamento internazionale decisione processo presidenza ruolo giuridico esprimere trattare decidere\n",
      "venire rappresentare sostenere prodotto effetto libertà mettere conseguenza garantire aumento\n",
      "importante livello protezione ambiente dato base tutela condizione comunitario cambiamento\n",
      "diritto parlamento europeo punto umano politico fondamentale deputato vista chiaro\n",
      "europeo unione cittadino membro positivo dimostrare sforzo terzo settimana adesione\n",
      "programma quadro problema progetto democratico affrontare ricerca particolare ritenere maniera\n",
      "obiettivo misura fondo adottare azione garantire europa problema economia membro\n",
      "\n",
      "Overall Coherence Score: 0.3637124875812266\n"
     ]
    }
   ],
   "source": [
    "ldaTomopy_model_20 = LDA_tomopy(num_topics=20, max_iters=100)\n",
    "ldaTomopy_output_20 = ldaTomopy_model_20.train_model(europarl_dataset)\n",
    "\n",
    "print('Topics:',*[' '.join(x) for x in ldaTomopy_output_20['topics']],sep='\\n')\n",
    "print(f'\\nOverall Coherence Score: {coherence.score(ldaTomopy_output_20)}')"
   ]
  },
  {
   "cell_type": "code",
   "execution_count": 8,
   "metadata": {},
   "outputs": [
    {
     "name": "stdout",
     "output_type": "stream",
     "text": [
      "Topics:\n",
      "impresa piccolo medio comportare verificare sostenere ovviamente produrre almeno struttura\n",
      "politico rappresentare parola responsabile attuale membro affermare reale partecipare fronte\n",
      "risorsa incidente trattare intervento pesca evitare considerare gestione mancare proprietà\n",
      "commissione direttiva decisione proposta quadro procedere attuazione appoggiare giuridico presto\n",
      "dare trattato lisbona articolo strategia bisognare statuto grado corrispondere suggerire\n",
      "adottare parlamento posizione risoluzione misura riuscire aspetto diversi condividere approvare\n",
      "ruolo svolgere svoltare estremamente criminalità giudiziario assistenza comportamento davvero apprezzare\n",
      "interno evitare sicurezza conferenza esterno affare tema pertanto intergovernativo diversità\n",
      "aiuto documento superare crescita impedire perdere chiaramente coordinare ignorare contemporaneamente\n",
      "europeo unione cittadino necessario raggiungere istituzione costituzione banca attualmente essa\n",
      "aiutare rimare dimostrare situazione vittima bambino grave gente centinaio famiglia\n",
      "elezione democratico certamente liberale alleanza cominciare libero fondamentale svezia forma\n",
      "processo nord pace pensare porre conoscere sud regione ripetere funzionare\n",
      "trattato assolutamente vigore chiamare occorrere lisbona entrare nucleare possibile escludere\n",
      "europeo partito democratico politico linea popolare importanza attribuire cristiano consenso\n",
      "commissione particolare pubblico membro responsabilità rispondere opinione consumatore informazione competenza\n",
      "obiettivo unico progetto raggiungere possibile europa condizione massimo lavoratore moneta\n",
      "credere rendere adeguato proporre capacità risposta situazione dimostrare assumere difficile\n",
      "donna violenza causa europa kosovo costituire proporre profugo confronto israele\n",
      "programma quadro finanziario riuscire prevedere destinare azione rete periodo specifico\n",
      "emendamento stabilire sostanza introdurre accogliere principale soprattutto adottare codice scientifico\n",
      "settore energia energetico pesca approccio nucleare limitare ampio comunicazione rifiuto\n",
      "finanziario economico crisi commerciale società euro pratica globale potenziale mancato\n",
      "venire ciò consentire presente appena considerare controllo sistema adesione sostenere\n",
      "azione obiettivo piano nonché campo particolarmente militare conseguenza concreto specifico\n",
      "sapere domanda volere riconoscere principio proposito pur sebbene naturalmente ridurre\n",
      "pubblico servizio direttiva norma necessario rendere revisione garantire diverso applicazione\n",
      "tenere conto questione commissione attenzione parere voto parlamentare pertanto idea\n",
      "importante pertanto rispettare ritenere livello prossimo fase acqua diverso analisi\n",
      "lotta sociale povertà attività sapere terrorismo priorità contributo risoluzione fenomeno\n",
      "regolamento paragrafo senso articolo proposta procedura risoluzione riferimento inserire ricevere\n",
      "importante compiere passo progresso sforzo contribuire mondiale significativo maggioranza direzione\n",
      "europeo unione membro interesse relazione russia turchia particolare uniti rilevare\n",
      "sistema effetto sanitario pronto pienamente struttura richiedente esistente preferenza breve\n",
      "processo informazione fornire valido disponibile verbale centro trasparenza impegnare sito\n",
      "questione volere società discutere parola ben spazio sapere dichiarazione ricordare\n",
      "prodotto produzione regime consumatore prezzo alimentare crescente limitare basso alimento\n",
      "occasione ribadire esprimere collaborazione marzo stretto incontro aula chiedere discutere\n",
      "presidenza affinché francese occasione fiducia tedesco insistere termine balcani occidentale\n",
      "cooperazione uniti tentativo confine francia numerosi rifiutare sudan danimarca introduzione\n",
      "argomento ritenere verde passare presentare simile tardi libro disposizione intervenire\n",
      "diritto fondamentale accordo materia principe carta includere garanzia informare necessario\n",
      "base ciò positivo esperienza ormai finire locale autorità completo insufficiente\n",
      "europa particolare forte politico dialogo chiaro rimanere democrazia poiché realtà\n",
      "trattare ordine datare creare chiarezza estremo maniera discussione turismo versione\n",
      "politico livello impegno euro esistere definire assumere affermare zona confronto\n",
      "punto vista valutazione preoccupazione sostenere sottolineare evento sicuramente richiesta formulare\n",
      "libertà cittadino democrazia opinione confronto scelta aperto osservazione espressione opportunità\n",
      "sociale economico politica comitato occupazione promuovere costituire creare istituire economia\n",
      "condizione economia creare situazione possibilità grado riconoscere tipo africa spostare\n",
      "presidente signora commissario crisi confermare intenzione barroso poiché conferenza circostanza\n",
      "mercato interno interesse permettere funzionamento credito trasparenza impresa consumatore diretto\n",
      "numero regolamento commissione venire giuridico autorità bensì organismo permettere provenire\n",
      "organizzazione agenzia aiuto umanitario parlare fornire presso ong contatto esortare\n",
      "importanza progetto misura intendere ambito iniziativa materia maniera legislazione giusto\n",
      "internazionale guerra affrontare trattare crimine penale concorrenza continuare tribunale causa\n",
      "europeo unione comunità necessità internazionale affrontare percento sviluppo rappresentare fronte\n",
      "né assicurare parto pensare soluzione entrambe metodo unire miglioramento distanza\n",
      "bilancio aumento conseguenza importo esistere aumentare presenza cercare spesa euro\n",
      "responsabilità giungere posizione chiedere immediato arrivare mancare ritardo parere informare\n",
      "animale relazione lavorare benessere popolazione attendere largo dipendere senso mantenimento\n",
      "valore questione sollevare contempo adozione soglia aggiunto specifico imposta giustizia\n",
      "possibile entro risultato ottenere termine garantire riguardo elaborare valutare costo\n",
      "riguardare settore altresì sicurezza aereo possibilità avvenire sanzione iniziativa aiuto\n",
      "membro protezione venire dare atto civile iniziativa comunitario popolazione rispettare\n",
      "commissione proposta relazione parlamento presentare votare merito riguardare lettura accordo\n",
      "strategia davvero portare ue strumento obiettivo servire convenzione crescita sperare\n",
      "diritto umano rispetto violazione elemento essenziale dignità salute buono esistenza\n",
      "presidente signore onorevole collega commissario signora volere nome de en\n",
      "problema risolvere solidarietà continuare grave colpire zona ciò internet area\n",
      "politica base obbligo campo applicazione rispettare parere realtà impatto immigrazione\n",
      "membro libero discussione singolo fiscale eliminare mettere trasferimento chiarire ostacolo\n",
      "opportunità soprattutto pario sicuro decidere storia dato personale chiedere formazione\n",
      "unito regno dialogo operazione netto promozione individuale germania controllo disposizione\n",
      "dibattito tema previsto compromesso buon odierno relazione pacchetto oggetto istituzionale\n",
      "procedura poiché bilancio ufficio principio presente legislativo testo creare altrettanto\n",
      "politica regionale ue comune rappresentare sviluppo estero coesione pario contributo\n",
      "attività migliore riflettere accesso limite coordinamento dieci conoscenza sessuale mettere\n",
      "corso volere importante iscritto aspetto partecipazione riguardare comunitario attualmente rappresentare\n",
      "onorevole relazione desiderare volere collega esprimere relatore deputato ringraziare intervenire\n",
      "cambiamento climatico emissione sostenibile carbonio quota sfida industria provocare enorme\n",
      "giustizia cooperazione corte riferimento causa federazione prigione russo affrontare crimine\n",
      "ricerca fondo sviluppo innovazione comunitario strumento attuazione programma tecnologia finanziamento\n",
      "applicare economico criterio interessato minaccia impedire situazione serie rapidamente ridurre\n",
      "situazione culturale mantenere capitale mirare vantaggio aumentare terribile diffuso vigere\n",
      "chiedere commissione volere motivo emendamento ragione respingere misura decisione altresì\n",
      "accordo cooperazione concludere prospettiva ambito terzo sottolineare negoziato citare relatore\n",
      "problema affrontare forma bc cattivo frontiera fisico favorire piano questione\n",
      "europa grado dato effetto soluzione garantire importante cruciale intero ragionevole\n",
      "comune politica agricolo riforma bisogno principale comunicazione differenza congiunto sostegno\n",
      "ambiente misura tutela sicurezza uso salute alimentare produzione rientrare ambientale\n",
      "legge soprattutto offrire prodotto sistema giovane coinvolgere gioco carenza uccidere\n",
      "sicurezza vero regola popolazione garantire accettare trattare esigenza parlamentare generazione\n",
      "parlamento europeo ricordare favorevole augurare discussione raccomandazione istituzione deputato numero\n",
      "trasporto passeggero richiedere strada beneficio servizio denaro repubblica globalizzazione dipendente\n",
      "sviluppo regione fondo contribuire area agricoltura obiettivo settore rurale strutturale\n",
      "riunione raccogliere riduzione leadership omc politico usa presente prevenzione dato\n",
      "materia investimento settore termine controllo effettuare nonché commercio facilitare divieto\n",
      "settimana prossimo presidenza vertice questione positivo esito corso finale organizzare\n",
      "livello alto qualità ritenere elevato pressione migliorare prezzo esercitare tutela\n",
      "\n",
      "Overall Coherence Score: 0.34020520908709867\n"
     ]
    }
   ],
   "source": [
    "ldaTomopy_model_100 = LDA_tomopy(num_topics=100, max_iters=100)\n",
    "ldaTomopy_output_100 = ldaTomopy_model_100.train_model(europarl_dataset)\n",
    "\n",
    "print('Topics:',*[' '.join(x) for x in ldaTomopy_output_100['topics']],sep='\\n')\n",
    "print(f'\\nOverall Coherence Score: {coherence.score(ldaTomopy_output_100)}')"
   ]
  },
  {
   "cell_type": "code",
   "execution_count": null,
   "metadata": {},
   "outputs": [],
   "source": [
    "HPOptimization"
   ]
  },
  {
   "cell_type": "code",
   "execution_count": 3,
   "metadata": {},
   "outputs": [
    {
     "data": {
      "application/vnd.jupyter.widget-view+json": {
       "model_id": "1a96c71ee62e43a587e2ae3411bca7a2",
       "version_major": 2,
       "version_minor": 0
      },
      "text/plain": [
       "  0%|          | 0/30 [00:00<?, ?it/s]"
      ]
     },
     "metadata": {},
     "output_type": "display_data"
    }
   ],
   "source": [
    "#NMF_scikit\n",
    "nmf_model = NMF_scikit()\n",
    "search_space = {\"num_topics\": Categorical([20,50,70,100]), \"init\": Categorical(['nndsvda','nndsvdar']), \"alpha\": Categorical([0.0,0.25,0.5,0.75,1.0])}\n",
    "optimizer=Optimizer()\n",
    "\n",
    "optResult=optimizer.optimize(nmf_model, europarl_dataset, coherence, search_space, save_path=\"./outputFiles\", number_of_call=30, model_runs=5)\n",
    "optResult.save_to_csv(\"NMFscikit_HOCoherence_euroParlResults.csv\")\n",
    "\n",
    "df=pd.read_csv('E:\\\\Rashi\\\\octis\\\\NMFscikit_HOCoherence_euroParlResults.csv')\n",
    "df.sort_values(by='Median(model_runs)',inplace=True, ascending=False)\n",
    "df.to_csv('E:\\\\Rashi\\\\octis\\\\NMFscikit_HOCoherence_euroParlResults.csv')"
   ]
  },
  {
   "cell_type": "code",
   "execution_count": 5,
   "metadata": {},
   "outputs": [
    {
     "data": {
      "application/vnd.jupyter.widget-view+json": {
       "model_id": "ffddac527abc4dbfaaf869edd920b1a5",
       "version_major": 2,
       "version_minor": 0
      },
      "text/plain": [
       "  0%|          | 0/30 [00:00<?, ?it/s]"
      ]
     },
     "metadata": {},
     "output_type": "display_data"
    }
   ],
   "source": [
    "#LDA_gibbs\n",
    "lda_model = LDA_gibbs()\n",
    "search_space = {\"n_topics\": Categorical([20,50,70,100]), \"n_iter\": Categorical([100]), \"alpha\": Categorical([0.01,0.05,0.1,0.5,1.0]), \"eta\": Categorical([0.001,0.005,0.01,0.05,0.1])}\n",
    "optimizer=Optimizer()\n",
    "\n",
    "optResult=optimizer.optimize(lda_model, europarl_dataset, coherence, search_space, save_path=\"./outputFiles\", number_of_call=30, model_runs=5)\n",
    "optResult.save_to_csv(\"LDAgibbs_HOCoherence_euroParlResults.csv\")\n",
    "\n",
    "df=pd.read_csv('E:\\\\Rashi\\\\octis\\\\LDAgibbs_HOCoherence_euroParlResults.csv')\n",
    "df.sort_values(by='Median(model_runs)',inplace=True, ascending=False)\n",
    "df.to_csv('E:\\\\Rashi\\\\octis\\\\LDAgibbs_HOCoherence_euroParlResults.csv')"
   ]
  },
  {
   "cell_type": "code",
   "execution_count": 6,
   "metadata": {},
   "outputs": [
    {
     "data": {
      "application/vnd.jupyter.widget-view+json": {
       "model_id": "17922937f9bc4ae0bffe1f02656366fa",
       "version_major": 2,
       "version_minor": 0
      },
      "text/plain": [
       "  0%|          | 0/30 [00:00<?, ?it/s]"
      ]
     },
     "metadata": {},
     "output_type": "display_data"
    }
   ],
   "source": [
    "#LDA_tomopy\n",
    "ldatomopy_model = LDA_tomopy()\n",
    "search_space = {\"num_topics\": Categorical([20,50,70,100]), \"max_iters\": Categorical([100]), \"alpha\": Categorical([0.01,0.05,0.1,0.5,1.0]), \"eta\": Categorical([0.001,0.005,0.01,0.05,0.1])}\n",
    "optimizer=Optimizer()\n",
    "\n",
    "optResult=optimizer.optimize(ldatomopy_model, europarl_dataset, coherence, search_space, save_path=\"./outputFiles\", number_of_call=30, model_runs=5)\n",
    "optResult.save_to_csv(\"LDAtomopy_HOCoherence_euroParlResults.csv\")\n",
    "\n",
    "df=pd.read_csv('E:\\\\Rashi\\\\octis\\\\LDAtomopy_HOCoherence_euroParlResults.csv')\n",
    "df.sort_values(by='Median(model_runs)',inplace=True, ascending=False)\n",
    "df.to_csv('E:\\\\Rashi\\\\octis\\\\LDAtomopy_HOCoherence_euroParlResults.csv')"
   ]
  }
 ],
 "metadata": {
  "kernelspec": {
   "display_name": "octis_pipeline",
   "language": "python",
   "name": "python3"
  },
  "language_info": {
   "codemirror_mode": {
    "name": "ipython",
    "version": 3
   },
   "file_extension": ".py",
   "mimetype": "text/x-python",
   "name": "python",
   "nbconvert_exporter": "python",
   "pygments_lexer": "ipython3",
   "version": "3.11.9"
  }
 },
 "nbformat": 4,
 "nbformat_minor": 2
}
